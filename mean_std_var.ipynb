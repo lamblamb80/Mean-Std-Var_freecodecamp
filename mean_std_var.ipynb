{
 "cells": [
  {
   "cell_type": "code",
   "execution_count": 8,
   "metadata": {},
   "outputs": [
    {
     "name": "stdout",
     "output_type": "stream",
     "text": [
      "[[0 1 2]\n",
      " [3 4 5]\n",
      " [6 7 8]]\n",
      "[0 1 2 3 4 5 6 7 8]\n",
      "[3 4 5]\n",
      "[1 4 7]\n",
      "4.0\n",
      "[6 6 6]\n",
      "[0 0 0]\n"
     ]
    }
   ],
   "source": [
    "import numpy as np\n",
    "\n",
    "#input_list = input(\"Enter 9 digits separated by spaces: \")\n",
    "\n",
    "#string_list = input_list.split()\n",
    "\n",
    "#number_list = [int(num) for num in string_list]\n",
    "\n",
    "\n",
    "number_list = [0,1,2,3,4,5,6,7,8] #test array prior to including user input\n",
    "\n",
    "arr3x3 = np.array([number_list[0:3],number_list[3:6],number_list[6:]])\n",
    "\n",
    "mean_ax1 = np.array([0,0,0])\n",
    "mean_ax2 = np.array([0,0,0])\n",
    "var_ax1 = np.array([0,0,0])\n",
    "var_ax2 = np.array([0,0,0])\n",
    "\n",
    "for i in range(3):\n",
    "    axis1 = []\n",
    "    axis2 = []\n",
    "    for k in range (3):\n",
    "        axis1.append(arr3x3[k,i])     #collects all row k values for column i \n",
    "        axis2.append(arr3x3[i,k])    #sums all column i values for row k\n",
    "    mean_ax1[i] = np.mean(axis1)\n",
    "    var_ax1[i] = np.var(axis1)\n",
    "    mean_ax2[i] = np.mean(axis2)\n",
    "    var_ax2[i] = np.var(axis2, dtype = np.float64)         #outputs zero values, need additional decimal points\n",
    "\n",
    "arr_flat = arr3x3.flatten()\n",
    "mean_flat = np.mean(arr_flat)\n",
    "var_flat = np.var(arr_flat)\n",
    "\n",
    "\n",
    "\n",
    "print(arr3x3)\n",
    "print(arr_flat)\n",
    "print(mean_ax1)\n",
    "print(mean_ax2)\n",
    "print(mean_flat)\n",
    "print(var_ax1)\n",
    "print(var_ax2)"
   ]
  },
  {
   "cell_type": "markdown",
   "metadata": {},
   "source": [
    "Appearance of final dictionary:\n",
    "\n",
    "```{\n",
    "  'mean': [axis1, axis2, flattened],\n",
    "  'variance': [axis1, axis2, flattened],\n",
    "  'standard deviation': [axis1, axis2, flattened],\n",
    "  'max': [axis1, axis2, flattened],\n",
    "  'min': [axis1, axis2, flattened],\n",
    "  'sum': [axis1, axis2, flattened]\n",
    "}\n",
    "\n",
    "Methods for manipulatng numpy arrays:\n",
    "\n",
    ".dot: dot product (multiply elements then sum all results)"
   ]
  }
 ],
 "metadata": {
  "kernelspec": {
   "display_name": "Python 3",
   "language": "python",
   "name": "python3"
  },
  "language_info": {
   "codemirror_mode": {
    "name": "ipython",
    "version": 3
   },
   "file_extension": ".py",
   "mimetype": "text/x-python",
   "name": "python",
   "nbconvert_exporter": "python",
   "pygments_lexer": "ipython3",
   "version": "3.13.0"
  }
 },
 "nbformat": 4,
 "nbformat_minor": 2
}
