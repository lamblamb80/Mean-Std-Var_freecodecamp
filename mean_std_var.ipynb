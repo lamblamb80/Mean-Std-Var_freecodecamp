{
 "cells": [
  {
   "cell_type": "code",
   "execution_count": 13,
   "metadata": {},
   "outputs": [
    {
     "name": "stdout",
     "output_type": "stream",
     "text": [
      "{'mean': [array([3., 4., 5.]), array([1., 4., 7.]), np.float64(4.0)], 'variance': [array([6., 6., 6.]), array([0.66666667, 0.66666667, 0.66666667]), np.float64(6.666666666666667)], 'standard deviation': [array([2.44948974, 2.44948974, 2.44948974]), array([0.81649658, 0.81649658, 0.81649658]), np.float64(2.581988897471611)], 'max': [array([6, 7, 8]), array([2, 5, 8]), np.int64(8)], 'min': [array([0, 1, 2]), array([0, 3, 6]), np.int64(0)], 'sum': [array([ 9, 12, 15]), array([ 3, 12, 21]), np.int64(36)]}\n"
     ]
    }
   ],
   "source": [
    "import numpy as np\n",
    "\n",
    "#input_list = input(\"Enter 9 digits separated by spaces: \")\n",
    "\n",
    "#string_list = input_list.split()\n",
    "\n",
    "#number_list = [int(num) for num in string_list]\n",
    "\n",
    "\n",
    "number_list = [0,1,2,3,4,5,6,7,8] #test array prior to including user input\n",
    "\n",
    "arr = np.array([number_list[0:3],number_list[3:6],number_list[6:]])\n",
    "\n",
    "def calculate(arr3x3):\n",
    "    mean_ax1 = np.mean(arr3x3, axis=0)\n",
    "    mean_ax2 = np.mean(arr3x3, axis=1)\n",
    "    mean_flat = np.mean(number_list)\n",
    "    var_ax1 = np.var(arr3x3, axis=0)\n",
    "    var_ax2 = np.var(arr3x3, axis=1)\n",
    "    var_flat = np.var(number_list)\n",
    "    std_ax1 = np.std(arr3x3, axis=0)\n",
    "    std_ax2 = np.std(arr3x3, axis=1)\n",
    "    std_flat = np.std(number_list)\n",
    "    max_ax1 = np.max(arr3x3, axis=0)\n",
    "    max_ax2 = np.max(arr3x3, axis=1)\n",
    "    max_flat = np.max(number_list)\n",
    "    min_ax1 = np.min(arr3x3, axis=0)\n",
    "    min_ax2 = np.min(arr3x3, axis=1)\n",
    "    min_flat = np.min(number_list)\n",
    "    sum_ax1 = np.sum(arr3x3, axis=0)\n",
    "    sum_ax2 = np.sum(arr3x3, axis=1)\n",
    "    sum_flat = np.sum(number_list)\n",
    "\n",
    "    dict = {\n",
    "        \"mean\": [mean_ax1,mean_ax2,mean_flat],\n",
    "        \"variance\": [var_ax1,var_ax2,var_flat],\n",
    "        \"standard deviation\": [std_ax1,std_ax2,std_flat],\n",
    "        \"max\": [max_ax1,max_ax2,max_flat],\n",
    "        \"min\": [min_ax1,min_ax2,min_flat],\n",
    "        \"sum\": [sum_ax1,sum_ax2,sum_flat]\n",
    "    }\n",
    "\n",
    "    return dict\n",
    "\n",
    "print(calculate(arr))"
   ]
  },
  {
   "cell_type": "markdown",
   "metadata": {},
   "source": [
    "Appearance of final dictionary:\n",
    "\n",
    "```{\n",
    "  'mean': [axis1, axis2, flattened],\n",
    "  'variance': [axis1, axis2, flattened],\n",
    "  'standard deviation': [axis1, axis2, flattened],\n",
    "  'max': [axis1, axis2, flattened],\n",
    "  'min': [axis1, axis2, flattened],\n",
    "  'sum': [axis1, axis2, flattened]\n",
    "}\n",
    "\n",
    "Methods for manipulatng numpy arrays:\n",
    "\n",
    ".dot: dot product (multiply elements then sum all results)"
   ]
  }
 ],
 "metadata": {
  "kernelspec": {
   "display_name": "Python 3",
   "language": "python",
   "name": "python3"
  },
  "language_info": {
   "codemirror_mode": {
    "name": "ipython",
    "version": 3
   },
   "file_extension": ".py",
   "mimetype": "text/x-python",
   "name": "python",
   "nbconvert_exporter": "python",
   "pygments_lexer": "ipython3",
   "version": "3.13.0"
  }
 },
 "nbformat": 4,
 "nbformat_minor": 2
}
