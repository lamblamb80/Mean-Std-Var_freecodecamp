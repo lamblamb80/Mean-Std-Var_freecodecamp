{
 "cells": [
  {
   "cell_type": "code",
   "execution_count": 11,
   "metadata": {},
   "outputs": [
    {
     "name": "stdout",
     "output_type": "stream",
     "text": [
      "[[0 1 2]\n",
      " [3 4 5]\n",
      " [6 7 8]]\n",
      "[0 1 2 3 4 5 6 7 8]\n",
      "[3 4 5]\n",
      "[1 4 7]\n",
      "4.0\n"
     ]
    }
   ],
   "source": [
    "import numpy as np\n",
    "\n",
    "#input_list = input(\"Enter 9 digits separated by spaces: \")\n",
    "\n",
    "#string_list = input_list.split()\n",
    "\n",
    "#number_list = [int(num) for num in string_list]\n",
    "\n",
    "\n",
    "number_list = [0,1,2,3,4,5,6,7,8]\n",
    "\n",
    "arr3x3 = np.array([number_list[0:3],number_list[3:6],number_list[6:]])\n",
    "\n",
    "mean_ax1 = np.array([0,0,0])\n",
    "mean_ax2 = np.array([0,0,0])\n",
    "\n",
    "for i in range(3):\n",
    "    sum1 = 0\n",
    "    sum2 = 0\n",
    "    for k in range (3):\n",
    "        sum1 += arr3x3[k,i]\n",
    "        sum2 += arr3x3[i,k]\n",
    "    mean_ax1[i] = sum1/3\n",
    "    mean_ax2[i] = sum2/3\n",
    "\n",
    "arr_flat = arr3x3.flatten()\n",
    "sum3 = 0\n",
    "for i in range(len(arr_flat)):\n",
    "    sum3 += arr_flat[i]\n",
    "\n",
    "mean_flat = sum3/(len(arr_flat))\n",
    "\n",
    "print(arr3x3)\n",
    "print(arr_flat)\n",
    "print(mean_ax1)\n",
    "print(mean_ax2)\n",
    "print(mean_flat)\n",
    "\n",
    "\n"
   ]
  },
  {
   "cell_type": "markdown",
   "metadata": {},
   "source": [
    "Appearance of final dictionary:\n",
    "\n",
    "```{\n",
    "  'mean': [axis1, axis2, flattened],\n",
    "  'variance': [axis1, axis2, flattened],\n",
    "  'standard deviation': [axis1, axis2, flattened],\n",
    "  'max': [axis1, axis2, flattened],\n",
    "  'min': [axis1, axis2, flattened],\n",
    "  'sum': [axis1, axis2, flattened]\n",
    "}\n",
    "\n",
    "Methods for manipulatng numpy arrays:\n",
    "\n",
    ".dot: dot product (multiply elements then sum all results)"
   ]
  }
 ],
 "metadata": {
  "kernelspec": {
   "display_name": "Python 3",
   "language": "python",
   "name": "python3"
  },
  "language_info": {
   "codemirror_mode": {
    "name": "ipython",
    "version": 3
   },
   "file_extension": ".py",
   "mimetype": "text/x-python",
   "name": "python",
   "nbconvert_exporter": "python",
   "pygments_lexer": "ipython3",
   "version": "3.13.0"
  }
 },
 "nbformat": 4,
 "nbformat_minor": 2
}
